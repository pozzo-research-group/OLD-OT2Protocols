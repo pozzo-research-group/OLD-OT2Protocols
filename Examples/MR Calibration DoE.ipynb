{
 "cells": [
  {
   "cell_type": "markdown",
   "metadata": {},
   "source": [
    "# MR efficacy testing and calibration"
   ]
  },
  {
   "cell_type": "markdown",
   "metadata": {},
   "source": [
    "### Plan\n",
    "1) create a large set of binary fatty acid/wax combinations\n",
    "\n",
    "2) test all of the combinations on MR\n",
    "\n",
    "3) test a few select combinations on the DSC\n",
    "\n",
    "4) plot the values of the MR data compared to DSC date (pull correlation - should be x=y)\n"
   ]
  },
  {
   "cell_type": "markdown",
   "metadata": {},
   "source": [
    "### Imports"
   ]
  },
  {
   "cell_type": "code",
   "execution_count": 73,
   "metadata": {},
   "outputs": [],
   "source": [
    "import numpy as np\n",
    "import gc\n",
    "import pandas as pd"
   ]
  },
  {
   "cell_type": "code",
   "execution_count": 4,
   "metadata": {},
   "outputs": [],
   "source": [
    "# opentrons\n",
    "import opentrons\n",
    "from opentrons import labware, instruments, robot"
   ]
  },
  {
   "cell_type": "markdown",
   "metadata": {},
   "source": [
    "### Defining Pure Component"
   ]
  },
  {
   "cell_type": "code",
   "execution_count": 64,
   "metadata": {},
   "outputs": [],
   "source": [
    "class Components:\n",
    "    def __init__(self, name, molecular_weight = []):\n",
    "        self.name = name\n",
    "        self.molecular_weight = molecular_weight"
   ]
  },
  {
   "cell_type": "code",
   "execution_count": 86,
   "metadata": {},
   "outputs": [],
   "source": [
    "oleic_acid = Components(\"oleic_acid\", 282.47)\n",
    "ethanol = Components(\"ethanol\", 46.07)\n",
    "dodecanoic_acid = Components(\"dodecanoic_acid\", 200.32)\n",
    "octanoic_acid = Components(\"octanoic_acid\", 144.21)\n",
    "geranic_acid = Components(\"geranic_acid\", 168.23)\n",
    "candelilla_wax = Components(\"candelilla_wax\")\n",
    "light_mineral_oil = Components(\"light_mineral_oil\", 425.363)\n",
    "heavy_mineral_oil = Components(\"heavy_mineral_oil\", 452.363)"
   ]
  },
  {
   "cell_type": "code",
   "execution_count": 87,
   "metadata": {},
   "outputs": [
    {
     "name": "stdout",
     "output_type": "stream",
     "text": [
      "oleic_acid\n",
      "ethanol\n",
      "dodecanoic_acid\n",
      "octanoic_acid\n",
      "geranic_acid\n",
      "candelilla_wax\n",
      "light_mineral_oil\n",
      "heavy_mineral_oil\n"
     ]
    }
   ],
   "source": [
    "for obj in gc.get_objects():\n",
    "    if isinstance(obj, Components):\n",
    "        print(obj.name)"
   ]
  },
  {
   "cell_type": "markdown",
   "metadata": {},
   "source": [
    "### Defining Stocks"
   ]
  },
  {
   "cell_type": "code",
   "execution_count": 44,
   "metadata": {},
   "outputs": [],
   "source": [
    "class Stocks:\n",
    "   def  __init__(self, molarity, composition, density = 1, aspiration_rate = 1):\n",
    "        self.aspiration_rate = aspiration_rate # between 0 and 1 - multiplies default speed\n",
    "        self.molarity = molarity #mol/L\n",
    "        self.composition = composition\n",
    "        self.density = density #g/ml"
   ]
  },
  {
   "cell_type": "code",
   "execution_count": 50,
   "metadata": {},
   "outputs": [],
   "source": [
    "oleic_acid_2M = Stocks(2, [\"oleic_acid\", \"ethanol\"], .823, aspiration_rate = .8,)\n",
    "dodecanoic_acid_1_3M = Stocks(1.3, [\"dodecanoic_acid\", \"ethanol\"], .803, aspiration_rate =.4)\n",
    "octanoic_acid_2M = Stocks(2, [\"octanoic_acid\", \"ethanol\"], .820, aspiration_rate =.4)"
   ]
  },
  {
   "cell_type": "code",
   "execution_count": 62,
   "metadata": {},
   "outputs": [
    {
     "name": "stdout",
     "output_type": "stream",
     "text": [
      "Stock made of ['oleic_acid', 'ethanol'] at 2 Molarity\n",
      "Stock made of ['dodecanoic_acid', 'ethanol'] at 1.3 Molarity\n",
      "Stock made of ['octanoic_acid', 'ethanol'] at 2 Molarity\n"
     ]
    }
   ],
   "source": [
    "for obj in gc.get_objects():\n",
    "    if isinstance(obj, Stocks):\n",
    "        print(\"Stock made of\", obj.composition, \"at\", obj.molarity, \"Molarity\")"
   ]
  },
  {
   "cell_type": "markdown",
   "metadata": {},
   "source": [
    "### Pipetting Scheme\n",
    "Each stock will ratio (volume) from 1:0 to 0:1 with every other stock - should result in 11 samples for each combo. There should be 21 combo's total. So 231 samples total creating 2.5 plates (3 plates of samples.)\n",
    "\n",
    "##### Metrics\n",
    "1) Total Samples = 231\n",
    "\n",
    "2) Total Volume = 1000ul -or- 1 mL"
   ]
  },
  {
   "cell_type": "code",
   "execution_count": 83,
   "metadata": {},
   "outputs": [
    {
     "data": {
      "text/html": [
       "<div>\n",
       "<style scoped>\n",
       "    .dataframe tbody tr th:only-of-type {\n",
       "        vertical-align: middle;\n",
       "    }\n",
       "\n",
       "    .dataframe tbody tr th {\n",
       "        vertical-align: top;\n",
       "    }\n",
       "\n",
       "    .dataframe thead th {\n",
       "        text-align: right;\n",
       "    }\n",
       "</style>\n",
       "<table border=\"1\" class=\"dataframe\">\n",
       "  <thead>\n",
       "    <tr style=\"text-align: right;\">\n",
       "      <th></th>\n",
       "      <th>comp1</th>\n",
       "      <th>comp2</th>\n",
       "    </tr>\n",
       "  </thead>\n",
       "  <tbody>\n",
       "    <tr>\n",
       "      <th>0</th>\n",
       "      <td>1.0</td>\n",
       "      <td>0.0</td>\n",
       "    </tr>\n",
       "    <tr>\n",
       "      <th>1</th>\n",
       "      <td>0.9</td>\n",
       "      <td>0.1</td>\n",
       "    </tr>\n",
       "    <tr>\n",
       "      <th>2</th>\n",
       "      <td>0.8</td>\n",
       "      <td>0.2</td>\n",
       "    </tr>\n",
       "    <tr>\n",
       "      <th>3</th>\n",
       "      <td>0.7</td>\n",
       "      <td>0.3</td>\n",
       "    </tr>\n",
       "    <tr>\n",
       "      <th>4</th>\n",
       "      <td>0.6</td>\n",
       "      <td>0.4</td>\n",
       "    </tr>\n",
       "    <tr>\n",
       "      <th>5</th>\n",
       "      <td>0.5</td>\n",
       "      <td>0.5</td>\n",
       "    </tr>\n",
       "    <tr>\n",
       "      <th>6</th>\n",
       "      <td>0.4</td>\n",
       "      <td>0.6</td>\n",
       "    </tr>\n",
       "    <tr>\n",
       "      <th>7</th>\n",
       "      <td>0.3</td>\n",
       "      <td>0.7</td>\n",
       "    </tr>\n",
       "    <tr>\n",
       "      <th>8</th>\n",
       "      <td>0.2</td>\n",
       "      <td>0.8</td>\n",
       "    </tr>\n",
       "    <tr>\n",
       "      <th>9</th>\n",
       "      <td>0.1</td>\n",
       "      <td>0.9</td>\n",
       "    </tr>\n",
       "    <tr>\n",
       "      <th>10</th>\n",
       "      <td>0.0</td>\n",
       "      <td>1.0</td>\n",
       "    </tr>\n",
       "  </tbody>\n",
       "</table>\n",
       "</div>"
      ],
      "text/plain": [
       "    comp1  comp2\n",
       "0     1.0    0.0\n",
       "1     0.9    0.1\n",
       "2     0.8    0.2\n",
       "3     0.7    0.3\n",
       "4     0.6    0.4\n",
       "5     0.5    0.5\n",
       "6     0.4    0.6\n",
       "7     0.3    0.7\n",
       "8     0.2    0.8\n",
       "9     0.1    0.9\n",
       "10    0.0    1.0"
      ]
     },
     "execution_count": 83,
     "metadata": {},
     "output_type": "execute_result"
    }
   ],
   "source": [
    "comp1 = [1,.9,.8,.7,.6,.5,.4,.3,.2,.1,0]\n",
    "comp2 = [0,.1,.2,.3,.4,.5,.6,.7,.8,.9,1]\n",
    "df = pd.DataFrame(list(zip(comp1, comp2)), columns = ['comp1','comp2'])\n",
    "df"
   ]
  },
  {
   "cell_type": "code",
   "execution_count": 84,
   "metadata": {},
   "outputs": [],
   "source": [
    "volume = 1000 #ul"
   ]
  },
  {
   "cell_type": "code",
   "execution_count": null,
   "metadata": {},
   "outputs": [],
   "source": []
  }
 ],
 "metadata": {
  "kernelspec": {
   "display_name": "Python 3",
   "language": "python",
   "name": "python3"
  },
  "language_info": {
   "codemirror_mode": {
    "name": "ipython",
    "version": 3
   },
   "file_extension": ".py",
   "mimetype": "text/x-python",
   "name": "python",
   "nbconvert_exporter": "python",
   "pygments_lexer": "ipython3",
   "version": "3.7.3"
  }
 },
 "nbformat": 4,
 "nbformat_minor": 2
}
