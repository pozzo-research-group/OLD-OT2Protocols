{
 "cells": [
  {
   "cell_type": "code",
   "execution_count": 6,
   "metadata": {},
   "outputs": [],
   "source": [
    "import opentrons\n",
    "from opentrons import labware, instruments, robot\n",
    "#"
   ]
  },
  {
   "cell_type": "code",
   "execution_count": 7,
   "metadata": {},
   "outputs": [
    {
     "name": "stderr",
     "output_type": "stream",
     "text": [
      "Exception opening labware vial-20ml\n",
      "Traceback (most recent call last):\n",
      "  File \"C:\\Users\\sages\\Anaconda3\\lib\\site-packages\\opentrons\\legacy_api\\api.py\", line 35, in load\n",
      "    self.robot, container_name, slot, label, share, version)\n",
      "  File \"C:\\Users\\sages\\Anaconda3\\lib\\site-packages\\opentrons\\legacy_api\\containers\\__init__.py\", line 76, in load\n",
      "    return robot.add_container(container_name, slot, label, share, version)\n",
      "  File \"C:\\Users\\sages\\Anaconda3\\lib\\site-packages\\opentrons\\legacy_api\\robot\\robot.py\", line 846, in add_container\n",
      "    container = _load_container_by_name(name, version=version)\n",
      "  File \"C:\\Users\\sages\\Anaconda3\\lib\\site-packages\\opentrons\\legacy_api\\robot\\robot.py\", line 70, in _load_container_by_name\n",
      "    container = load_new_labware(container_name, version=version)\n",
      "  File \"C:\\Users\\sages\\Anaconda3\\lib\\site-packages\\opentrons\\legacy_api\\containers\\__init__.py\", line 254, in load_new_labware\n",
      "    version=version)\n",
      "  File \"C:\\Users\\sages\\Anaconda3\\lib\\site-packages\\opentrons\\protocol_api\\labware.py\", line 1147, in get_labware_definition\n",
      "    load_name, namespace, version)\n",
      "  File \"C:\\Users\\sages\\Anaconda3\\lib\\site-packages\\opentrons\\protocol_api\\labware.py\", line 1072, in _get_standard_labware_definition\n",
      "    f'Labware \"{load_name}\" not found with version {checked_version}. '\n",
      "FileNotFoundError: Labware \"vial-20ml\" not found with version 1. If you are using a namespace besides opentrons or custom_beta, please specify it\n"
     ]
    },
    {
     "ename": "FileNotFoundError",
     "evalue": "Labware \"vial-20ml\" not found with version 1. If you are using a namespace besides opentrons or custom_beta, please specify it",
     "output_type": "error",
     "traceback": [
      "\u001b[1;31m---------------------------------------------------------------------------\u001b[0m",
      "\u001b[1;31mFileNotFoundError\u001b[0m                         Traceback (most recent call last)",
      "\u001b[1;32m<ipython-input-7-fbb5c522b1f9>\u001b[0m in \u001b[0;36m<module>\u001b[1;34m\u001b[0m\n\u001b[0;32m      1\u001b[0m \u001b[1;31m#load labware\u001b[0m\u001b[1;33m\u001b[0m\u001b[1;33m\u001b[0m\u001b[1;33m\u001b[0m\u001b[0m\n\u001b[0;32m      2\u001b[0m \u001b[0mtiprack_1000\u001b[0m \u001b[1;33m=\u001b[0m \u001b[0mlabware\u001b[0m\u001b[1;33m.\u001b[0m\u001b[0mload\u001b[0m\u001b[1;33m(\u001b[0m\u001b[1;34m\"tiprack-1000ul\"\u001b[0m\u001b[1;33m,\u001b[0m \u001b[1;34m'1'\u001b[0m\u001b[1;33m)\u001b[0m\u001b[1;33m\u001b[0m\u001b[1;33m\u001b[0m\u001b[0m\n\u001b[1;32m----> 3\u001b[1;33m \u001b[0mStock1\u001b[0m \u001b[1;33m=\u001b[0m \u001b[0mlabware\u001b[0m\u001b[1;33m.\u001b[0m\u001b[0mload\u001b[0m\u001b[1;33m(\u001b[0m\u001b[1;34m\"vial-20ml\"\u001b[0m\u001b[1;33m,\u001b[0m \u001b[1;34m'2'\u001b[0m\u001b[1;33m)\u001b[0m\u001b[1;33m\u001b[0m\u001b[1;33m\u001b[0m\u001b[0m\n\u001b[0m\u001b[0;32m      4\u001b[0m \u001b[0mvials\u001b[0m \u001b[1;33m=\u001b[0m \u001b[0mlabware\u001b[0m\u001b[1;33m.\u001b[0m\u001b[0mload\u001b[0m\u001b[1;33m(\u001b[0m\u001b[1;34m\"vial-20ml\"\u001b[0m\u001b[1;33m,\u001b[0m \u001b[1;34m'3'\u001b[0m\u001b[1;33m)\u001b[0m \u001b[1;31m#More scintillation vials\u001b[0m\u001b[1;33m\u001b[0m\u001b[1;33m\u001b[0m\u001b[0m\n\u001b[0;32m      5\u001b[0m \u001b[0mtrash\u001b[0m \u001b[1;33m=\u001b[0m \u001b[0mrobot\u001b[0m\u001b[1;33m.\u001b[0m\u001b[0mfixed_trash\u001b[0m\u001b[1;33m\u001b[0m\u001b[1;33m\u001b[0m\u001b[0m\n",
      "\u001b[1;32m~\\Anaconda3\\lib\\site-packages\\opentrons\\legacy_api\\api.py\u001b[0m in \u001b[0;36mload\u001b[1;34m(self, container_name, slot, label, share, version)\u001b[0m\n\u001b[0;32m     33\u001b[0m         \u001b[1;32mtry\u001b[0m\u001b[1;33m:\u001b[0m\u001b[1;33m\u001b[0m\u001b[1;33m\u001b[0m\u001b[0m\n\u001b[0;32m     34\u001b[0m             return cnt.load(\n\u001b[1;32m---> 35\u001b[1;33m                 self.robot, container_name, slot, label, share, version)\n\u001b[0m\u001b[0;32m     36\u001b[0m         \u001b[1;32mexcept\u001b[0m \u001b[0mFileNotFoundError\u001b[0m\u001b[1;33m:\u001b[0m\u001b[1;33m\u001b[0m\u001b[1;33m\u001b[0m\u001b[0m\n\u001b[0;32m     37\u001b[0m             \u001b[0mLOG\u001b[0m\u001b[1;33m.\u001b[0m\u001b[0mexception\u001b[0m\u001b[1;33m(\u001b[0m\u001b[1;34mf\"Exception opening labware {container_name}\"\u001b[0m\u001b[1;33m)\u001b[0m\u001b[1;33m\u001b[0m\u001b[1;33m\u001b[0m\u001b[0m\n",
      "\u001b[1;32m~\\Anaconda3\\lib\\site-packages\\opentrons\\legacy_api\\containers\\__init__.py\u001b[0m in \u001b[0;36mload\u001b[1;34m(robot, container_name, slot, label, share, version)\u001b[0m\n\u001b[0;32m     74\u001b[0m         \u001b[0mslot\u001b[0m \u001b[1;33m=\u001b[0m \u001b[0mstr\u001b[0m\u001b[1;33m(\u001b[0m\u001b[0mslot\u001b[0m\u001b[1;33m)\u001b[0m\u001b[1;33m\u001b[0m\u001b[1;33m\u001b[0m\u001b[0m\n\u001b[0;32m     75\u001b[0m \u001b[1;33m\u001b[0m\u001b[0m\n\u001b[1;32m---> 76\u001b[1;33m     \u001b[1;32mreturn\u001b[0m \u001b[0mrobot\u001b[0m\u001b[1;33m.\u001b[0m\u001b[0madd_container\u001b[0m\u001b[1;33m(\u001b[0m\u001b[0mcontainer_name\u001b[0m\u001b[1;33m,\u001b[0m \u001b[0mslot\u001b[0m\u001b[1;33m,\u001b[0m \u001b[0mlabel\u001b[0m\u001b[1;33m,\u001b[0m \u001b[0mshare\u001b[0m\u001b[1;33m,\u001b[0m \u001b[0mversion\u001b[0m\u001b[1;33m)\u001b[0m\u001b[1;33m\u001b[0m\u001b[1;33m\u001b[0m\u001b[0m\n\u001b[0m\u001b[0;32m     77\u001b[0m \u001b[1;33m\u001b[0m\u001b[0m\n\u001b[0;32m     78\u001b[0m \u001b[1;33m\u001b[0m\u001b[0m\n",
      "\u001b[1;32m~\\Anaconda3\\lib\\site-packages\\opentrons\\legacy_api\\robot\\robot.py\u001b[0m in \u001b[0;36madd_container\u001b[1;34m(self, name, slot, label, share, version)\u001b[0m\n\u001b[0;32m    844\u001b[0m \u001b[1;33m\u001b[0m\u001b[0m\n\u001b[0;32m    845\u001b[0m     \u001b[1;32mdef\u001b[0m \u001b[0madd_container\u001b[0m\u001b[1;33m(\u001b[0m\u001b[0mself\u001b[0m\u001b[1;33m,\u001b[0m \u001b[0mname\u001b[0m\u001b[1;33m,\u001b[0m \u001b[0mslot\u001b[0m\u001b[1;33m,\u001b[0m \u001b[0mlabel\u001b[0m\u001b[1;33m=\u001b[0m\u001b[1;32mNone\u001b[0m\u001b[1;33m,\u001b[0m \u001b[0mshare\u001b[0m\u001b[1;33m=\u001b[0m\u001b[1;32mFalse\u001b[0m\u001b[1;33m,\u001b[0m \u001b[0mversion\u001b[0m\u001b[1;33m=\u001b[0m\u001b[1;32mNone\u001b[0m\u001b[1;33m)\u001b[0m\u001b[1;33m:\u001b[0m\u001b[1;33m\u001b[0m\u001b[1;33m\u001b[0m\u001b[0m\n\u001b[1;32m--> 846\u001b[1;33m         \u001b[0mcontainer\u001b[0m \u001b[1;33m=\u001b[0m \u001b[0m_load_container_by_name\u001b[0m\u001b[1;33m(\u001b[0m\u001b[0mname\u001b[0m\u001b[1;33m,\u001b[0m \u001b[0mversion\u001b[0m\u001b[1;33m=\u001b[0m\u001b[0mversion\u001b[0m\u001b[1;33m)\u001b[0m\u001b[1;33m\u001b[0m\u001b[1;33m\u001b[0m\u001b[0m\n\u001b[0m\u001b[0;32m    847\u001b[0m         \u001b[0mcontainer_patched\u001b[0m \u001b[1;33m=\u001b[0m \u001b[0m_setup_container\u001b[0m\u001b[1;33m(\u001b[0m\u001b[0mcontainer\u001b[0m\u001b[1;33m)\u001b[0m\u001b[1;33m\u001b[0m\u001b[1;33m\u001b[0m\u001b[0m\n\u001b[0;32m    848\u001b[0m         \u001b[1;32mif\u001b[0m \u001b[1;32mnot\u001b[0m \u001b[0mcontainer_patched\u001b[0m\u001b[1;33m:\u001b[0m\u001b[1;33m\u001b[0m\u001b[1;33m\u001b[0m\u001b[0m\n",
      "\u001b[1;32m~\\Anaconda3\\lib\\site-packages\\opentrons\\legacy_api\\robot\\robot.py\u001b[0m in \u001b[0;36m_load_container_by_name\u001b[1;34m(container_name, version)\u001b[0m\n\u001b[0;32m     68\u001b[0m             \u001b[1;34mf\"Trying to load container {container_name} version {version}\"\u001b[0m\u001b[1;33m\u001b[0m\u001b[1;33m\u001b[0m\u001b[0m\n\u001b[0;32m     69\u001b[0m             f\"from v2 labware store\")\n\u001b[1;32m---> 70\u001b[1;33m         \u001b[0mcontainer\u001b[0m \u001b[1;33m=\u001b[0m \u001b[0mload_new_labware\u001b[0m\u001b[1;33m(\u001b[0m\u001b[0mcontainer_name\u001b[0m\u001b[1;33m,\u001b[0m \u001b[0mversion\u001b[0m\u001b[1;33m=\u001b[0m\u001b[0mversion\u001b[0m\u001b[1;33m)\u001b[0m\u001b[1;33m\u001b[0m\u001b[1;33m\u001b[0m\u001b[0m\n\u001b[0m\u001b[0;32m     71\u001b[0m     \u001b[1;32mreturn\u001b[0m \u001b[0mcontainer\u001b[0m\u001b[1;33m\u001b[0m\u001b[1;33m\u001b[0m\u001b[0m\n\u001b[0;32m     72\u001b[0m \u001b[1;33m\u001b[0m\u001b[0m\n",
      "\u001b[1;32m~\\Anaconda3\\lib\\site-packages\\opentrons\\legacy_api\\containers\\__init__.py\u001b[0m in \u001b[0;36mload_new_labware\u001b[1;34m(container_name, version)\u001b[0m\n\u001b[0;32m    252\u001b[0m     \"\"\"\n\u001b[0;32m    253\u001b[0m     defn = new_labware.get_labware_definition(load_name=container_name,\n\u001b[1;32m--> 254\u001b[1;33m                                               version=version)\n\u001b[0m\u001b[0;32m    255\u001b[0m     \u001b[1;32mreturn\u001b[0m \u001b[0mload_new_labware_def\u001b[0m\u001b[1;33m(\u001b[0m\u001b[0mdefn\u001b[0m\u001b[1;33m)\u001b[0m\u001b[1;33m\u001b[0m\u001b[1;33m\u001b[0m\u001b[0m\n\u001b[0;32m    256\u001b[0m \u001b[1;33m\u001b[0m\u001b[0m\n",
      "\u001b[1;32m~\\Anaconda3\\lib\\site-packages\\opentrons\\protocol_api\\labware.py\u001b[0m in \u001b[0;36mget_labware_definition\u001b[1;34m(load_name, namespace, version, bundled_defs, extra_defs)\u001b[0m\n\u001b[0;32m   1145\u001b[0m \u001b[1;33m\u001b[0m\u001b[0m\n\u001b[0;32m   1146\u001b[0m     return _get_standard_labware_definition(\n\u001b[1;32m-> 1147\u001b[1;33m         load_name, namespace, version)\n\u001b[0m\u001b[0;32m   1148\u001b[0m \u001b[1;33m\u001b[0m\u001b[0m\n\u001b[0;32m   1149\u001b[0m \u001b[1;33m\u001b[0m\u001b[0m\n",
      "\u001b[1;32m~\\Anaconda3\\lib\\site-packages\\opentrons\\protocol_api\\labware.py\u001b[0m in \u001b[0;36m_get_standard_labware_definition\u001b[1;34m(load_name, namespace, version)\u001b[0m\n\u001b[0;32m   1070\u001b[0m                 \u001b[1;32mpass\u001b[0m\u001b[1;33m\u001b[0m\u001b[1;33m\u001b[0m\u001b[0m\n\u001b[0;32m   1071\u001b[0m         raise FileNotFoundError(\n\u001b[1;32m-> 1072\u001b[1;33m             \u001b[1;34mf'Labware \"{load_name}\" not found with version {checked_version}. '\u001b[0m\u001b[1;33m\u001b[0m\u001b[1;33m\u001b[0m\u001b[0m\n\u001b[0m\u001b[0;32m   1073\u001b[0m             \u001b[1;34mf'If you are using a namespace besides {OPENTRONS_NAMESPACE} or '\u001b[0m\u001b[1;33m\u001b[0m\u001b[1;33m\u001b[0m\u001b[0m\n\u001b[0;32m   1074\u001b[0m             f'{CUSTOM_NAMESPACE}, please specify it')\n",
      "\u001b[1;31mFileNotFoundError\u001b[0m: Labware \"vial-20ml\" not found with version 1. If you are using a namespace besides opentrons or custom_beta, please specify it"
     ]
    }
   ],
   "source": [
    "#load labware\n",
    "tiprack_1000 = labware.load(\"tiprack-1000ul\", '1')\n",
    "Stock1 = labware.load(\"vial-20ml\", '2')\n",
    "vials = labware.load(\"vial-20ml\", '3') #More scintillation vials\n",
    "trash = robot.fixed_trash\n",
    "\n",
    "P1000 = instruments.P1000_Single(\n",
    "    mount = 'right',\n",
    "    tip_racks = [tiprack_1000],\n",
    "    trash_container = trash\n",
    ")"
   ]
  },
  {
   "cell_type": "code",
   "execution_count": null,
   "metadata": {},
   "outputs": [],
   "source": [
    "robot.home()"
   ]
  },
  {
   "cell_type": "code",
   "execution_count": null,
   "metadata": {},
   "outputs": [],
   "source": [
    "speeds = [.2,.4,.6,.8,1]\n",
    "pipette_amount = [600]"
   ]
  },
  {
   "cell_type": "code",
   "execution_count": null,
   "metadata": {},
   "outputs": [],
   "source": [
    "P1000.aspirate(Stock1('A1'))\n",
    "P1000.dispense(Stock1('A1'))\n",
    "P1000.aspirate(Stock1('A1'))\n",
    "P1000.dispense(Stock1('A1'))"
   ]
  },
  {
   "cell_type": "code",
   "execution_count": null,
   "metadata": {},
   "outputs": [],
   "source": [
    "for counter, speed in enumerate(speeds, 0):\n",
    "    # distribution of the same amount at various speeds\n",
    "    P1000.distribute(\n",
    "        pipette_amount,\n",
    "        Stock1('A1'),\n",
    "        vials(counter),\n",
    "        rate = speed,\n",
    "        new_tip = \"never\")\n",
    "        pipette.blow_out() "
   ]
  },
  {
   "cell_type": "code",
   "execution_count": null,
   "metadata": {},
   "outputs": [],
   "source": [
    "P1000.drop_tip()"
   ]
  }
 ],
 "metadata": {
  "kernelspec": {
   "display_name": "Python 3",
   "language": "python",
   "name": "python3"
  },
  "language_info": {
   "codemirror_mode": {
    "name": "ipython",
    "version": 3
   },
   "file_extension": ".py",
   "mimetype": "text/x-python",
   "name": "python",
   "nbconvert_exporter": "python",
   "pygments_lexer": "ipython3",
   "version": "3.7.3"
  }
 },
 "nbformat": 4,
 "nbformat_minor": 2
}
