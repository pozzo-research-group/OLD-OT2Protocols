{
 "cells": [
  {
   "cell_type": "markdown",
   "metadata": {},
   "source": [
    "#### Import statements"
   ]
  },
  {
   "cell_type": "code",
   "execution_count": 10,
   "metadata": {},
   "outputs": [],
   "source": [
    "import sys\n",
    "import os\n",
    "import numpy as np\n",
    "from opentrons import robot, instruments, labware\n",
    "\n",
    "#Original Directory\n",
    "og_dir = os.getcwd()\n",
    "\n",
    "#Change your_path to your system's ../ot2protocols. You may or may not need r in front. \n",
    "#I couldn't get this to work otherwise. I had to modify ot2protocols.__init__:\n",
    "#from .ot2protocols import* -> from ot2protocols import*\n",
    "your_path = r'C:\\Users\\lacho\\OneDrive - UW\\Pozzo-RG-OT2\\OT2Protocols'\n",
    "os.chdir(your_path)\n",
    "from ot2protocols import Components\n",
    "from ot2protocols import A1Stock\n",
    "#Return to original directory\n",
    "os.chdir(og_dir)"
   ]
  },
  {
   "cell_type": "code",
   "execution_count": null,
   "metadata": {},
   "outputs": [],
   "source": [
    "class OuzoSample:\n",
    "    '''\n",
    "    Create ouzo sample with:\n",
    "    organic solvent, organic solvent + hydrophobe/oil, \n",
    "    water, water + colloidal stabilizer \n",
    "    \n",
    "    components_dict - dictionary pointing to Component objects with context specific roles\n",
    "    e.g. {'hydrophobe':Component, 'organic-solvent':Component, 'water':Component, 'stabilizer1':Component}\n",
    "    \n",
    "    wt_f_dict - dictionary which ties components to their respective weight fractions:\n",
    "    e.g. {'hydrophobe':float, 'organic-solvent':float...'water':None}\n",
    "    \n",
    "    '''\n",
    "    def __init__(self, mass = None, components_dict ={}, wt_f_dict ={}, density = None):\n",
    "        self.mass = mass\n",
    "        self.hydrophobe = components_dict['hydrophobe']\n",
    "        self.organic = components_dict['organic-solvent']\n",
    "\n",
    "        \n",
    "        \n",
    "        "
   ]
  }
 ],
 "metadata": {
  "kernelspec": {
   "display_name": "Python 3",
   "language": "python",
   "name": "python3"
  },
  "language_info": {
   "codemirror_mode": {
    "name": "ipython",
    "version": 3
   },
   "file_extension": ".py",
   "mimetype": "text/x-python",
   "name": "python",
   "nbconvert_exporter": "python",
   "pygments_lexer": "ipython3",
   "version": "3.7.6"
  }
 },
 "nbformat": 4,
 "nbformat_minor": 2
}
