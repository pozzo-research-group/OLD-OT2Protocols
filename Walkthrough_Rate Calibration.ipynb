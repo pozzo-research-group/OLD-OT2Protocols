{
 "cells": [
  {
   "cell_type": "markdown",
   "metadata": {},
   "source": [
    "# Walkthrough: Rate Calibration "
   ]
  },
  {
   "cell_type": "markdown",
   "metadata": {},
   "source": [
    "## Experimental Plan\n",
    "#### Goal: To ensure that the amounts pipetted by the OT2 are expected for the designated stock liquid at the designated parameters\n",
    "General plan\n",
    "* Weigh a series of 5 vials and record their weights in a table\n",
    "* Using the appropriate code, run a series of pipetting into the vials\n",
    "* Weigh the full vials and determine difference between expected weight (calculate with density) and the actual pipetted weight \n",
    "    * If density is unknown, manually pipette desired amount and weigh, set as expected weight\n",
    "* Run the measurement 3 times total \n",
    "* Determine error from OT2 - change machine parameters and repeat as needed\n",
    "* Store required machine parameters for stock solution as a class attribute\n"
   ]
  },
  {
   "cell_type": "markdown",
   "metadata": {},
   "source": [
    "## Defaults\n",
    "* Speed (aspiration and dispensing rates) for various liquids\n",
    "    * Defaults as follows: \n",
    "        * P50 apsirate: 25uL/s\n",
    "        * P50 dispense: 50 uL/s\n",
    "        * P300 aspirate: 150 uL/s\n",
    "        * P300 dispense: 300 uL/s\n",
    "        * P1000 apsirate: 500 uL/s\n",
    "        * P1000 dispense: 1000 uL/s"
   ]
  },
  {
   "cell_type": "markdown",
   "metadata": {},
   "source": [
    "## Running the Protocol\n",
    "There is a .py file that has this code available that will run this same experiment through the app, as well as a \"rate_calibration.ipynb\" that is stored on the OT2 jupyter notebook which can be run cell-by-cell"
   ]
  },
  {
   "cell_type": "markdown",
   "metadata": {},
   "source": [
    "## Data Storage\n",
    "Until there is a more cohesive way of storing data, I have created a google sheet with all of my calibrated materials - if you are using any of the stocks that are on this sheet, you may not have to do this procedure for the stock you are using. \n",
    "\n",
    "<a> https://docs.google.com/spreadsheets/d/1r2dxUNLJlFGxSpL3NlJucerffeclqKbH_x6i8mR369c/edit?usp=sharing </a>"
   ]
  },
  {
   "cell_type": "markdown",
   "metadata": {},
   "source": [
    "## Code: Aspiration Speed\n",
    "This code has currently been designed for the P1000 pipette. If you wish to run for other sizes of pipettes, there is replacements at the bottom of the notebook"
   ]
  },
  {
   "cell_type": "markdown",
   "metadata": {},
   "source": [
    "#### Imports\n"
   ]
  },
  {
   "cell_type": "code",
   "execution_count": null,
   "metadata": {},
   "outputs": [],
   "source": [
    "from opentrons import labware, instruments, robot\n",
    "robot.reset()\n",
    "robot.home()"
   ]
  },
  {
   "cell_type": "markdown",
   "metadata": {},
   "source": [
    "#### Labware"
   ]
  },
  {
   "cell_type": "code",
   "execution_count": 1,
   "metadata": {},
   "outputs": [
    {
     "ename": "SyntaxError",
     "evalue": "invalid syntax (<ipython-input-1-e6cc97188600>, line 2)",
     "output_type": "error",
     "traceback": [
      "\u001b[1;36m  File \u001b[1;32m\"<ipython-input-1-e6cc97188600>\"\u001b[1;36m, line \u001b[1;32m2\u001b[0m\n\u001b[1;33m    Stock1 = labware.load(vial-20ml\", '2') #scintillation vials\u001b[0m\n\u001b[1;37m                                  ^\u001b[0m\n\u001b[1;31mSyntaxError\u001b[0m\u001b[1;31m:\u001b[0m invalid syntax\n"
     ]
    }
   ],
   "source": [
    "tiprack_1000 = labware.load(\"tiprack-1000ul\", '1')\n",
    "Stock1 = labware.load(\"vial-20ml\", '2') #scintillation vials\n",
    "Vials = labware.load(\"vial-20ml\", '3') #scintillation vials \n",
    "trash = robot.fixed_trash\n",
    "\n",
    "P1000 = instruments.P1000_Single(\n",
    "    mount = 'right',\n",
    "    tip_racks = [tiprack_1000],\n",
    "    trash_container = trash\n",
    ")"
   ]
  },
  {
   "cell_type": "markdown",
   "metadata": {},
   "source": [
    "#### Definitions and Constants"
   ]
  },
  {
   "cell_type": "code",
   "execution_count": 1,
   "metadata": {},
   "outputs": [
    {
     "ename": "SyntaxError",
     "evalue": "invalid syntax (<ipython-input-1-6612ed42be20>, line 17)",
     "output_type": "error",
     "traceback": [
      "\u001b[1;36m  File \u001b[1;32m\"<ipython-input-1-6612ed42be20>\"\u001b[1;36m, line \u001b[1;32m17\u001b[0m\n\u001b[1;33m    trash_container = trash\u001b[0m\n\u001b[1;37m                  ^\u001b[0m\n\u001b[1;31mSyntaxError\u001b[0m\u001b[1;31m:\u001b[0m invalid syntax\n"
     ]
    }
   ],
   "source": [
    "speeds = [.2,.4,.6,.8,1] # not recommeded to go over 1 (default speed)\n",
    "pipette_amount = [30, 170, 600]"
   ]
  },
  {
   "cell_type": "markdown",
   "metadata": {},
   "source": [
    " #### Opentrons Run"
   ]
  },
  {
   "cell_type": "code",
   "execution_count": null,
   "metadata": {},
   "outputs": [],
   "source": [
    "P1000.pick_up_tip()\n",
    "\n",
    "#prewetting for volitile liquids\n",
    "P1000.aspirate(Stock1(source))\n",
    "P1000.dispense(Stock1(source))\n",
    "P1000.aspirate(Stock1(source))\n",
    "P1000.dispense(Stock1(source))\n",
    "\n",
    "for speed in speeds:\n",
    "    # distribution of the same amount at various speeds\n",
    "    P1000.distribute(\n",
    "        amount,\n",
    "        Stock1(source),\n",
    "        vials(counter),\n",
    "        rate = speed, \n",
    "        new_tip = \"never\")\n",
    "        pipette.blow_out()"
   ]
  },
  {
   "cell_type": "markdown",
   "metadata": {},
   "source": [
    "#### P50 Swap"
   ]
  },
  {
   "cell_type": "code",
   "execution_count": null,
   "metadata": {},
   "outputs": [],
   "source": [
    "#labware\n",
    "tiprack_50 = labware.load(\"opentrons_tiprack-50ul\", '1')\n",
    "\n",
    "P50 = instruments.P50_Single(\n",
    "    mount = 'right',\n",
    "    tip_racks = [tiprack_50],\n",
    "    trash_container = trash\n",
    ")\n",
    "\n",
    "P50.pick_up_tip()\n",
    "\n",
    "#prewetting for volatile liquids\n",
    "P50.aspirate(Stock1(source))\n",
    "P50.dispense(Stock1(source))\n",
    "P50.aspirate(Stock1(source))\n",
    "P50.dispense(Stock1(source))\n",
    "\n",
    "for speed in speeds:\n",
    "    P50.distribute(\n",
    "        amount,\n",
    "        Stock1(source),\n",
    "        vials(counter),\n",
    "        rate = speed, \n",
    "        new_tip = \"never\")\n",
    "        pipette.blow_out()"
   ]
  },
  {
   "cell_type": "markdown",
   "metadata": {},
   "source": [
    "#### P300 Swaps"
   ]
  },
  {
   "cell_type": "code",
   "execution_count": null,
   "metadata": {},
   "outputs": [],
   "source": [
    "#labware\n",
    "tiprack_300 = labware.load(\"opentrons_tiprack-300ul\", '1')\n",
    "\n",
    "P300 = instruments.P300_Single(\n",
    "    mount = 'right',\n",
    "    tip_racks = [tiprack_300],\n",
    "    trash_container = trash\n",
    ")\n",
    "\n",
    "P300.aspirate(Stock1(source))\n",
    "P300.dispense(Stock1(source))\n",
    "P300.aspirate(Stock1(source))\n",
    "P300.dispense(Stock1(source))\n",
    "        \n",
    "for speed in speeds:\n",
    "    P300.distribute(\n",
    "        amount,\n",
    "        Stock1(source),\n",
    "        vials(counter),\n",
    "        rate = speed, \n",
    "        new_tip = \"never\")\n",
    "        pipette.blow_out()\n"
   ]
  },
  {
   "cell_type": "markdown",
   "metadata": {},
   "source": [
    "### Volume Check"
   ]
  }
 ],
 "metadata": {
  "kernelspec": {
   "display_name": "Python 3",
   "language": "python",
   "name": "python3"
  },
  "language_info": {
   "codemirror_mode": {
    "name": "ipython",
    "version": 3
   },
   "file_extension": ".py",
   "mimetype": "text/x-python",
   "name": "python",
   "nbconvert_exporter": "python",
   "pygments_lexer": "ipython3",
   "version": "3.7.3"
  }
 },
 "nbformat": 4,
 "nbformat_minor": 2
}
