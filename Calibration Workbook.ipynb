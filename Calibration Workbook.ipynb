{
 "cells": [
  {
   "cell_type": "markdown",
   "metadata": {},
   "source": [
    "# Calibration Workbook"
   ]
  },
  {
   "cell_type": "markdown",
   "metadata": {},
   "source": [
    "## Types of OT2 Calibrations needed\n",
    "* Speed (aspiration and dispensing rates) for various liquids\n",
    "    * Defaults as follows: \n",
    "        * P50 apsirate: 25uL/s\n",
    "        * P50 dispense: 50 uL/s\n",
    "        * P300 aspirate: 150 uL/s\n",
    "        * P300 dispense: 300 uL/s\n",
    "        * P1000 apsirate: 500 uL/s\n",
    "        * P1000 dispense: 1000 uL/s\n",
    "* Volume Check\n",
    "    * Min/Max is as follows\n",
    "        * P50 is from 5uL to 50uL\n",
    "        * P300 is from 30uL to 300uL\n",
    "        * P1000 is from 100uL to 1000uL"
   ]
  },
  {
   "cell_type": "markdown",
   "metadata": {},
   "source": [
    "## Experimental Plan\n",
    "#### Goal: To ensure that the amounts pippeted by the OT2 are expected for the designated stock liquid at the designated parameters\n",
    "General plan\n",
    "* weigh a series of XXX vials and record their weights in a table\n",
    "* Using the appropriate code, run a series of pipetting into the vials\n",
    "* weigh the full vials and determine differnce between expected weight (calculate with density) and the actual pipetted weight \n",
    "* determine error from OT2 - change machine parameters and repeat as needed\n",
    "* store required machine parameters for stock solution as a class?\n"
   ]
  },
  {
   "cell_type": "markdown",
   "metadata": {},
   "source": [
    "### Required for all"
   ]
  },
  {
   "cell_type": "code",
   "execution_count": 15,
   "metadata": {},
   "outputs": [
    {
     "ename": "SyntaxError",
     "evalue": "invalid syntax (<ipython-input-15-c8401743ea51>, line 17)",
     "output_type": "error",
     "traceback": [
      "\u001b[1;36m  File \u001b[1;32m\"<ipython-input-15-c8401743ea51>\"\u001b[1;36m, line \u001b[1;32m17\u001b[0m\n\u001b[1;33m    trash_container = trash\u001b[0m\n\u001b[1;37m                  ^\u001b[0m\n\u001b[1;31mSyntaxError\u001b[0m\u001b[1;31m:\u001b[0m invalid syntax\n"
     ]
    }
   ],
   "source": [
    "from opentrons import labware, instruments, robot\n",
    "robot.reset()\n",
    "robot.home()\n",
    "\n",
    "# load all labware - if only one pipette is being used, then can be modifed to only test a specific one\n",
    "#tiprack_50 = labware.load() - I dont know the name for the other tiprack\n",
    "tiprack_300 = labware.load(\"opentrons-tiprack-300ul\", '1')\n",
    "tiprack_1000 = labware.load(\"tiprack-1000ul\", '4')\n",
    "#Stock1 = lawbware.load(\"\") I would think the scintillation vials - dont know what that is called in opentrons\n",
    "#Vials = labware.load(\"\") More scintillation vials \n",
    "trash = robot.fixed_trash\n",
    "\n",
    "#set up pipette tips to be used - can be commented out or edited as needed\n",
    "P50 = instruments.P50_Single(\n",
    "    mount = 'right', \n",
    "    tip_racks = [tiprack_50]\n",
    "    trash_container = trash\n",
    ")\n",
    "\n",
    "P300 = instruments.P300_Single(\n",
    "    mount = 'left',\n",
    "    tip_racks = [tiprack_300],\n",
    "    trash_container = trash\n",
    ")\n",
    "\n",
    "P1000 = instruments.P1000_Single(\n",
    "    mount = 'right',\n",
    "    tip_racks = [tiprack_1000],\n",
    "    trash_container = trash\n",
    ")"
   ]
  },
  {
   "cell_type": "markdown",
   "metadata": {},
   "source": [
    " ### Aspiration Speed"
   ]
  },
  {
   "cell_type": "code",
   "execution_count": 16,
   "metadata": {},
   "outputs": [
    {
     "ename": "NameError",
     "evalue": "name 'P50' is not defined",
     "output_type": "error",
     "traceback": [
      "\u001b[1;31m---------------------------------------------------------------------------\u001b[0m",
      "\u001b[1;31mNameError\u001b[0m                                 Traceback (most recent call last)",
      "\u001b[1;32m<ipython-input-16-6455af4fed26>\u001b[0m in \u001b[0;36m<module>\u001b[1;34m\u001b[0m\n\u001b[0;32m      7\u001b[0m     \u001b[1;32mif\u001b[0m \u001b[0mamount\u001b[0m \u001b[1;33m<\u001b[0m \u001b[0mfloat\u001b[0m\u001b[1;33m(\u001b[0m\u001b[1;36m50\u001b[0m\u001b[1;33m)\u001b[0m\u001b[1;33m:\u001b[0m  \u001b[1;31m#sort out if there is a specific pipette needed for the volume\u001b[0m\u001b[1;33m\u001b[0m\u001b[1;33m\u001b[0m\u001b[0m\n\u001b[0;32m      8\u001b[0m         \u001b[1;31m#prewetting for volitile liquids\u001b[0m\u001b[1;33m\u001b[0m\u001b[1;33m\u001b[0m\u001b[1;33m\u001b[0m\u001b[0m\n\u001b[1;32m----> 9\u001b[1;33m         \u001b[0mP50\u001b[0m\u001b[1;33m.\u001b[0m\u001b[0maspirate\u001b[0m\u001b[1;33m(\u001b[0m\u001b[0mStock1\u001b[0m\u001b[1;33m(\u001b[0m\u001b[0msource\u001b[0m\u001b[1;33m)\u001b[0m\u001b[1;33m)\u001b[0m\u001b[1;33m\u001b[0m\u001b[1;33m\u001b[0m\u001b[0m\n\u001b[0m\u001b[0;32m     10\u001b[0m         \u001b[0mP50\u001b[0m\u001b[1;33m.\u001b[0m\u001b[0mdispense\u001b[0m\u001b[1;33m(\u001b[0m\u001b[0mStock1\u001b[0m\u001b[1;33m(\u001b[0m\u001b[0msource\u001b[0m\u001b[1;33m)\u001b[0m\u001b[1;33m)\u001b[0m\u001b[1;33m\u001b[0m\u001b[1;33m\u001b[0m\u001b[0m\n\u001b[0;32m     11\u001b[0m         \u001b[0mP50\u001b[0m\u001b[1;33m.\u001b[0m\u001b[0maspirate\u001b[0m\u001b[1;33m(\u001b[0m\u001b[0mStock1\u001b[0m\u001b[1;33m(\u001b[0m\u001b[0msource\u001b[0m\u001b[1;33m)\u001b[0m\u001b[1;33m)\u001b[0m\u001b[1;33m\u001b[0m\u001b[1;33m\u001b[0m\u001b[0m\n",
      "\u001b[1;31mNameError\u001b[0m: name 'P50' is not defined"
     ]
    }
   ],
   "source": [
    "#aspiration  and dispense rate is in ul/s\n",
    "# rate is calculated as rate * aspiration_speed - or rate*default speed. \n",
    "speeds = [.2,.4,.6,.8,1] # not recommeded to go over 1 (default speed)\n",
    "pipette_amount = [30, 170, 600]\n",
    "\n",
    "for amount in pipette_amount:\n",
    "    if amount < float(50):  #sort out if there is a specific pipette needed for the volume\n",
    "        #prewetting for volitile liquids\n",
    "        P50.aspirate(Stock1(source))\n",
    "        P50.dispense(Stock1(source))\n",
    "        P50.aspirate(Stock1(source))\n",
    "        P50.dispense(Stock1(source))\n",
    "        for speed in speeds:\n",
    "            # distribution of the same amount at various speeds\n",
    "            P50.distribute(\n",
    "                amount,\n",
    "                Stock1(source),\n",
    "                vials(counter),\n",
    "                rate = speed, \n",
    "                new_tip = \"never\")\n",
    "            print(pipette_amount, rate)\n",
    "    elif amount < float(300): #sort out if there is a specific pipette needed for the volume\n",
    "                #prewetting for volitile liquids\n",
    "        P300.aspirate(Stock1(source))\n",
    "        P300.dispense(Stock1(source))\n",
    "        P300.aspirate(Stock1(source))\n",
    "        P300.dispense(Stock1(source))\n",
    "        for speed in speeds:\n",
    "            # distribution of the same amount at various speeds\n",
    "            P300.distribute(\n",
    "                amount,\n",
    "                Stock1(source),\n",
    "                vials(counter),\n",
    "                rate = speed, \n",
    "                new_tip = \"never\")\n",
    "            print(pipette_amount, rate)\n",
    "    elif amount < float(1000): #sort out if there is a specific pipette needed for the volume\n",
    "        #prewetting for volitile liquids\n",
    "        P1000.aspirate(Stock1(source))\n",
    "        P1000.dispense(Stock1(source))\n",
    "        P1000.aspirate(Stock1(source))\n",
    "        P1000.dispense(Stock1(source))\n",
    "        for speed in speeds:\n",
    "            # distribution of the same amount at various speeds\n",
    "            P1000.distribute(\n",
    "                amount,\n",
    "                Stock1(source),\n",
    "                vials(counter),\n",
    "                rate = speed, \n",
    "                new_tip = \"never\")\n",
    "            print(pipette_amount, rate)\n",
    "    else:\n",
    "        print(\"please check the values for the pipette amount\")\n",
    "    \n",
    "\n",
    "\n",
    "\n"
   ]
  },
  {
   "cell_type": "markdown",
   "metadata": {},
   "source": [
    "### Volume Check"
   ]
  },
  {
   "cell_type": "code",
   "execution_count": 17,
   "metadata": {},
   "outputs": [
    {
     "ename": "NameError",
     "evalue": "name 'P300' is not defined",
     "output_type": "error",
     "traceback": [
      "\u001b[1;31m---------------------------------------------------------------------------\u001b[0m",
      "\u001b[1;31mNameError\u001b[0m                                 Traceback (most recent call last)",
      "\u001b[1;32m<ipython-input-17-4e259fc86a21>\u001b[0m in \u001b[0;36m<module>\u001b[1;34m\u001b[0m\n\u001b[0;32m      9\u001b[0m \u001b[1;32mfor\u001b[0m \u001b[0mvolume\u001b[0m \u001b[1;32min\u001b[0m \u001b[0mvolumes\u001b[0m\u001b[1;33m:\u001b[0m\u001b[1;33m\u001b[0m\u001b[1;33m\u001b[0m\u001b[0m\n\u001b[0;32m     10\u001b[0m     \u001b[1;31m#prewetting the tip - *should* help with dripping\u001b[0m\u001b[1;33m\u001b[0m\u001b[1;33m\u001b[0m\u001b[1;33m\u001b[0m\u001b[0m\n\u001b[1;32m---> 11\u001b[1;33m     \u001b[0mP300\u001b[0m\u001b[1;33m.\u001b[0m\u001b[0maspirate\u001b[0m\u001b[1;33m(\u001b[0m\u001b[0mStock1\u001b[0m\u001b[1;33m(\u001b[0m\u001b[0msource\u001b[0m\u001b[1;33m)\u001b[0m\u001b[1;33m)\u001b[0m\u001b[1;33m\u001b[0m\u001b[1;33m\u001b[0m\u001b[0m\n\u001b[0m\u001b[0;32m     12\u001b[0m     \u001b[0mP300\u001b[0m\u001b[1;33m.\u001b[0m\u001b[0mdispense\u001b[0m\u001b[1;33m(\u001b[0m\u001b[0mStock1\u001b[0m\u001b[1;33m(\u001b[0m\u001b[0msource\u001b[0m\u001b[1;33m)\u001b[0m\u001b[1;33m)\u001b[0m\u001b[1;33m\u001b[0m\u001b[1;33m\u001b[0m\u001b[0m\n\u001b[0;32m     13\u001b[0m     \u001b[0mP300\u001b[0m\u001b[1;33m.\u001b[0m\u001b[0maspirate\u001b[0m\u001b[1;33m(\u001b[0m\u001b[0mStock1\u001b[0m\u001b[1;33m(\u001b[0m\u001b[0msource\u001b[0m\u001b[1;33m)\u001b[0m\u001b[1;33m)\u001b[0m\u001b[1;33m\u001b[0m\u001b[1;33m\u001b[0m\u001b[0m\n",
      "\u001b[1;31mNameError\u001b[0m: name 'P300' is not defined"
     ]
    }
   ],
   "source": [
    "# user chooses the size of pipette, names the pipette and includes the min and max volume - following code is written fro P300\n",
    "#pipette = P300\n",
    "min = 30\n",
    "max = 300 \n",
    "total = 10\n",
    "jump = int((max-min)/total)\n",
    "volumes = list(range(min, max, jump)) #produces a set number of essenitally evenly spaced volumes\n",
    "\n",
    "for volume in volumes:\n",
    "    #prewetting the tip - *should* help with dripping\n",
    "    P300.aspirate(Stock1(source))\n",
    "    P300.dispense(Stock1(source))\n",
    "    P300.aspirate(Stock1(source))\n",
    "    P300.dispense(Stock1(source))  \n",
    "    \n",
    "    print(volume)"
   ]
  },
  {
   "cell_type": "code",
   "execution_count": null,
   "metadata": {},
   "outputs": [],
   "source": []
  }
 ],
 "metadata": {
  "kernelspec": {
   "display_name": "Python 3",
   "language": "python",
   "name": "python3"
  },
  "language_info": {
   "codemirror_mode": {
    "name": "ipython",
    "version": 3
   },
   "file_extension": ".py",
   "mimetype": "text/x-python",
   "name": "python",
   "nbconvert_exporter": "python",
   "pygments_lexer": "ipython3",
   "version": "3.7.3"
  }
 },
 "nbformat": 4,
 "nbformat_minor": 2
}
