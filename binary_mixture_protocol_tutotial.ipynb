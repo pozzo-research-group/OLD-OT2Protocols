{
 "cells": [
  {
   "cell_type": "markdown",
   "metadata": {},
   "source": [
    "## This notebook is a tutorial and overview of a binary mixture protocol for the OT2. Given a specified array of mole fractions and concentration of corresponding stock solutions, it will calculate the required volumes and pass that along to the OT2. While in this example it is intended for binary mixtures, it could be modified for ternary, quarternary mixtures, and the labware and pipettes should be easily modualr as well."
   ]
  },
  {
   "cell_type": "markdown",
   "metadata": {},
   "source": [
    "### First we will look at each function seperately before we introduce them into the main wrapper function."
   ]
  },
  {
   "cell_type": "code",
   "execution_count": 1,
   "metadata": {},
   "outputs": [],
   "source": [
    "#Imports\n",
    "import numpy as np\n",
    "from scipy.optimize import fsolve"
   ]
  },
  {
   "cell_type": "markdown",
   "metadata": {},
   "source": [
    "### Pipette switching function\n",
    "\n",
    "#### Replace the P50 and P300 with other pipettes you are using if necessary."
   ]
  },
  {
   "cell_type": "code",
   "execution_count": 2,
   "metadata": {},
   "outputs": [],
   "source": [
    "def choose_pipette(volume):\n",
    "    \"\"\"\n",
    "    This function decides which pipette to use based on the volume given.\n",
    "    Be sure the correct pipette is specified in the labware portion of the OT2 protocol for function to work.\n",
    "    \n",
    "    \"\"\"\n",
    "    values = volume\n",
    "    if values == float(0):                                  # If volume is 0, well is skipped\n",
    "        pass\n",
    "    elif values < float(30):                                # If volume is below 30uL, P50 pipette is used\n",
    "        instrument = P50\n",
    "    else:                                                   # If volume is greater than 30uL, P300 pipette is used\n",
    "        instrument = P300\n",
    "    return instrument #returns which pipette to use"
   ]
  },
  {
   "cell_type": "markdown",
   "metadata": {},
   "source": [
    "### Destination wellplate function\n",
    "\n",
    "#### Here we are specifically using 96 well plates, replace with other wellplates if necessary. The input necessary is a list of wellplates  being used in the protocol. "
   ]
  },
  {
   "cell_type": "code",
   "execution_count": 3,
   "metadata": {},
   "outputs": [],
   "source": [
    "def destination_well_plate(i, well_plate_list):\n",
    "    \"\"\"\n",
    "    This function checks if you've filled up the current well plate and need\n",
    "    to move to on to the next one. Replace well number with any other wellplate if necessary.\n",
    "    i is the count of all the wells the OT2 has filled so far (starting from 0).\n",
    "    Error will be returned if you have run out of wellplates.\n",
    "    \n",
    "    \"\"\"\n",
    "    try:\n",
    "        well_number = i // 96                     #floor division operator keeps track if you've filled all wells in current plate\n",
    "        well_plate = well_plate_list[well_number] #value of well number will designate which plate to use based on given well plate list\n",
    "    except ValueError:\n",
    "          print(\"You ran out of space in the well plate. You either need to add new\\\n",
    "          well plates, or continue new experiment from where you stopped.\")\n",
    "    return well_plate #returns which wellplate to use"
   ]
  },
  {
   "cell_type": "markdown",
   "metadata": {},
   "source": [
    "### Volume calculation function\n",
    "\n",
    "#### Calculates the necessary volume for the OT2 to pipette based on the given mole fractions. For this to work, the array of mole fractions should look like the array below, with the mole fractions for both components in each element of the array."
   ]
  },
  {
   "cell_type": "code",
   "execution_count": 4,
   "metadata": {},
   "outputs": [],
   "source": [
    "example_array = np.array([[0.025,0.975],[0.05,0.95],[0.1, 0.9],[0.15,0.85],[0.17,0.83],[0.2,0.8],[0.25,0.75],[0.27,0.73],\n",
    "                                 [0.3,0.7],[0.33,0.67],[0.35,0.65],[0.4,0.6],[0.45,0.55],[0.5,0.5],[0.55,0.45],[0.6,0.4],\n",
    "                                 [0.65,0.35],[0.7,0.3],[0.75,0.25],[0.8,0.2],[0.85,0.15],[0.9,0.1],[0.95,0.05],[0.975,0.025]])"
   ]
  },
  {
   "cell_type": "code",
   "execution_count": 5,
   "metadata": {},
   "outputs": [],
   "source": [
    "def calculate_volumes(DES_mole_fractions, stock_QAS, stock_HBD, total_volume):\n",
    "    \"\"\"\n",
    "    This function calculates the necessary volume for the OT2 to pipette based on \n",
    "    a given array of mole fractions. Also necessary to give the corresponding stock\n",
    "    concentrations (mol/L) of the components. Lastly, input the desired total volume of the \n",
    "    desired mixture.\n",
    "    \n",
    "    \"\"\"                                             #empty list created to append calculated volumes in uL\n",
    "    QAS = []                                        #component 1 for this case is the quarternary ammonium salt in the first index of the array element (x[0])\n",
    "    HBD = []                                        #component 2 for this case is the hydrogen bond doner in the second index in the array element (x[1])\n",
    "    for row in DES_mole_fractions: \n",
    "        def f(x) :                                  #system of equations to solve for necessary volume\n",
    "            y = np.zeros(np.size(x))                #input desired total volume of mixture                                                                                               \n",
    "            y[0] = x[0] + x[1] - total_volume       #QAS and HBD volumes will be equal to total specified                                                                   \n",
    "            y[1] = ((stock_QAS*x[0])/((stock_QAS*x[0]) + (stock_HBD*x[1]))) - row[0]  #equation for mole fraction of component 1\n",
    "            y[2] = ((stock_HBD*x[1])/((stock_QAS*x[0]) + (stock_HBD*x[1]))) - row[1]  # equation for mole fraction of component 2\n",
    "            return y\n",
    "        x0 = np.array([100.0, 100.0, 100.0])        #input initial guesses                                   \n",
    "        x = fsolve(f, x0)                           #fsolve function\n",
    "        QAS.append(x[0])                            #appending QAS volumes into list\n",
    "        HBD.append(x[1])                            #appending HBD volumes into list\n",
    "        volumes = [QAS,HBD]                         # Appends volumes into a seperate list of lists.\n",
    "\n",
    "    return(volumes)"
   ]
  },
  {
   "cell_type": "markdown",
   "metadata": {},
   "source": [
    "#### The function will return a list of lists of volumes as below. All volumes in the first list will correspond to the QAS and the volumes in the second list will corresopond to the HBD. This allows the robot to pipette all the necessary volumes from one stock to all the mixtures, reducing the need to switch pipettes constantly. "
   ]
  },
  {
   "cell_type": "code",
   "execution_count": 6,
   "metadata": {},
   "outputs": [
    {
     "data": {
      "text/plain": [
       "[[11.111111111111095,\n",
       "  21.95121951219512,\n",
       "  42.857142857142854,\n",
       "  62.79069767002344,\n",
       "  70.50691244239651,\n",
       "  81.81818181818181,\n",
       "  100.00000000000007,\n",
       "  107.04845814977979,\n",
       "  117.39130434787334,\n",
       "  127.46781115879797,\n",
       "  134.04255319149058,\n",
       "  150.00000000019182,\n",
       "  165.30612244897958,\n",
       "  180.00000000001535,\n",
       "  194.11764705882354,\n",
       "  207.69230769230774,\n",
       "  220.75471698113154,\n",
       "  233.33333333333331,\n",
       "  245.45454545454544,\n",
       "  257.1428571428571,\n",
       "  268.4210526315823,\n",
       "  279.3103448284455,\n",
       "  289.8305084638737,\n",
       "  294.95798319328145],\n",
       " [288.88888888888886,\n",
       "  278.0487804878049,\n",
       "  257.14285714285717,\n",
       "  237.20930232997657,\n",
       "  229.4930875576035,\n",
       "  218.18181818181816,\n",
       "  199.99999999999994,\n",
       "  192.95154185022022,\n",
       "  182.60869565212664,\n",
       "  172.53218884120201,\n",
       "  165.95744680850942,\n",
       "  149.99999999980818,\n",
       "  134.6938775510204,\n",
       "  119.99999999998467,\n",
       "  105.88235294117648,\n",
       "  92.30769230769229,\n",
       "  79.24528301886848,\n",
       "  66.66666666666667,\n",
       "  54.54545454545455,\n",
       "  42.85714285714286,\n",
       "  31.578947368417715,\n",
       "  20.68965517155447,\n",
       "  10.169491536126289,\n",
       "  5.042016806718518]]"
      ]
     },
     "execution_count": 6,
     "metadata": {},
     "output_type": "execute_result"
    }
   ],
   "source": [
    "calculate_volumes(example_array, 2, 3, 300)"
   ]
  },
  {
   "cell_type": "markdown",
   "metadata": {},
   "source": [
    "### Volume transfer function\n",
    "\n",
    "#### This function carries out the volume transfers to the appropriate wells for the entire volume list. More modifications can be made to how the transfers are carried out by referencing the OT2 API."
   ]
  },
  {
   "cell_type": "code",
   "execution_count": 7,
   "metadata": {},
   "outputs": [],
   "source": [
    "def transfer_list_of_volumes(source, starting_well_plate, starting_well_number, volume_list):\n",
    "    \n",
    "    \"\"\"\n",
    "    This function carries out the volume transfers to the appropriate wells. \n",
    "    Necessary to input a source, which will be the stock solutions. Also a \n",
    "    starting well plate from the list of well plates, and which well number\n",
    "    to start from. Finally, the volume list that was calculated is needed.\n",
    "    This function works together with the others to keep track of what well\n",
    "    plates and wells have aklready been filled previously.\n",
    "    \n",
    "    \"\"\"\n",
    "    P300.pick_up_tip()                                   # Picks up pipette tip for both P50 and P300 to allow to alternate\n",
    "    P50.pick_up_tip()\n",
    "    for well_counter, values in enumerate(volume_list):\n",
    "        pipette = choose_pipette(values)                 # choose pipette based on volume\n",
    "        pipette.transfer(values, stock[source], starting_well_plate(starting_well_number+well_counter).top(0.5), new_tip='never') #will be pipetting from a \"stock\" labware specified later in OT2 protocol        \n",
    "        pipette.blow_out(starting_well_plate(starting_well_number+well_counter).top(0.5)) #blows out after dispensing\n",
    "    P300.drop_tip() #dropping tips when switching to a new stock solution.\n",
    "    P50.drop_tip()\n",
    "    return len(volume_list) #returns the length of volume list to keep track of how many wells have just been filled"
   ]
  },
  {
   "cell_type": "markdown",
   "metadata": {},
   "source": [
    "### Main wrapper function\n",
    "\n",
    "#### This will be the wrapper function to implement into an OT2 protocol. Extra print statements are included that you can use to check if your protocol is behaving appropriately and the correct wellplates, wells, stocks, etc. are being used. "
   ]
  },
  {
   "cell_type": "code",
   "execution_count": 8,
   "metadata": {},
   "outputs": [],
   "source": [
    "def main(reagent_pos, mole_fractions, well_plate_list, starting_position, stock_concentrations, total_volume):\n",
    "    \n",
    "    \"\"\"\n",
    "    This is the main wrapper function for binary mixture generation. Inputs necessary are reagent positions (essentially\n",
    "    what mixtures you are making based on where they are located in the stock plate), the mole fractions desired for the\n",
    "    mixtures, a list of well plates being used that must be defined beforehand in the protocol, starting position based on\n",
    "    total number of available wells (i.e. start from 0 usually), a dictionary of stock concentrations, and finally the \n",
    "    total volume desired of the mixtures.\n",
    "\n",
    "    \"\"\"  \n",
    "    i = starting_position                                               #based on total number of wells. For example, 384 wells in 4*96 well plates. Starting from 0 will be first plate, starting from 96 will be second plate.\n",
    "    total_number_of_wells_needed = len(reagent_pos)*len(mole_fractions) #total wells will be length of mixtures array multipled by length of mole fraction array\n",
    "    print('total number of wells needed is {}'.format(total_number_of_wells_needed))\n",
    "    \n",
    "    available_wells = (len(well_plate_list))*96 - i - 1           # checks how many wells available based on specified labware\n",
    "    print('Total available wells are {}'.format(available_wells)) # This will also keep track of how many wells are left after each iteration\n",
    "    \n",
    "    if total_number_of_wells_needed > available_wells:            # will advise you if you need more wellplates\n",
    "        print(\"Total number of empty wells needed for carrying out the experiment is {},\\\n",
    "        greater than the available empty wells {}.\".format(total_number_of_wells_needed, available_wells))\n",
    "        print(\"Either add empty wells or decrease number of mixtures\")\n",
    "    else:\n",
    "        for j in range(len(reagent_pos)):                         #looping through all desired mixtures to be made\n",
    "            Q = reagent_pos[j][0]                                 # in array of mixtures, first stock location is the QAS\n",
    "            print('First reagent is {}'.format(Q))\n",
    "            H = reagent_pos[j][1]                                 # The HBD is the second stock location in array of mixtures\n",
    "            print('Second reagent is {}'.format(H))\n",
    "            starting_well_plate = destination_well_plate(i, well_plate_list) #function determines which plate to use\n",
    "            starting_well_number = i % 96                                    #modulus operator keeps track of which well to start from                               \n",
    "            print('We are starting from well plate {}, and well number {}'.format(i // 96, starting_well_number))\n",
    "            reagent_volume = calculate_volumes(mole_fractions, stock_concentrations[Q], stock_concentrations[H], total_volume) #calculating volumes to pipette\n",
    "            print('Concentration of stock {}, is {}'.format(Q, stock_concentrations[Q]))\n",
    "            print('Concentration of stock {}, is {}'.format(H, stock_concentrations[H]))                                       #reports which stocks are used, their concentrations, and the resulting calculated volume list\n",
    "            print('Based on given mole fraction and stock concentration, to create total volume of {}, calculated volume list for both agents are {}'.format(total_volume, reagent_volume))\n",
    "            transfer_list_of_volumes(Q, starting_well_plate,starting_well_number, reagent_volume[0])          #pipetting the volumes for the QAS (1st stock position)\n",
    "            moves = transfer_list_of_volumes(H, starting_well_plate,starting_well_number, reagent_volume[1])  #pipetting the volumes for the HBD (2nd stock position)\n",
    "            print('We have filled up {} wells'.format(moves))                                                 #reports how many wells we just filled in this run\n",
    "            i += moves                                                                                        #This will be the next starting position for the following iteration\n",
    "            print('Now we are starting from well plate {}, well number {}'.format(i // 96,i % 96))            #reports next starting well and wellplate\n",
    "    return"
   ]
  },
  {
   "cell_type": "markdown",
   "metadata": {},
   "source": [
    "### OT2 Protocol\n",
    "\n",
    "#### Here is an example protocol to implement the code. Be sure to remove the robot.reset() and robot commands print statements when actually running on the robot. However, keep these when simulating protocols in jupyter notebook."
   ]
  },
  {
   "cell_type": "code",
   "execution_count": 18,
   "metadata": {},
   "outputs": [
    {
     "name": "stderr",
     "output_type": "stream",
     "text": [
      "/Users/jaime/.opentrons/deck_calibration.json not found. Loading defaults\n",
      "/Users/jaime/.opentrons/robot_settings.json not found. Loading defaults\n"
     ]
    },
    {
     "name": "stdout",
     "output_type": "stream",
     "text": [
      "Loading json containers...\n",
      "Json container file load complete, listing database\n",
      "Found 0 containers to add. Starting migration...\n",
      "Database migration complete!\n",
      "total number of wells needed is 48\n",
      "Total available wells are 383\n",
      "First reagent is A1\n",
      "Second reagent is A5\n",
      "We are starting from well plate 0, and well number 0\n",
      "Concentration of stock A1, is 1\n",
      "Concentration of stock A5, is 1\n",
      "Based on given mole fraction and stock concentration, to create total volume of 300, calculated volume list for both agents are [[7.5, 15.0, 30.000000000000004, 45.00000000000001, 51.00000000000001, 60.0, 75.0, 81.0, 90.0, 99.0, 105.0, 119.99999999999856, 135.0, 150.0, 165.0, 180.0, 195.0, 210.0, 225.0, 240.00000000000003, 255.00000005698485, 270.0, 285.0, 292.5], [292.5, 285.0, 270.0, 254.99999999999997, 248.99999999999997, 240.0, 225.00000000000003, 219.0, 210.0, 201.0, 195.0, 180.00000000000142, 165.0, 150.0, 135.0, 120.0, 105.0, 90.0, 75.0, 60.0, 44.99999994301515, 30.0, 15.000000000000002, 7.500000000000001]]\n",
      "We have filled up 24 wells\n",
      "Now we are starting from well plate 0, well number 24\n",
      "First reagent is A1\n",
      "Second reagent is A6\n",
      "We are starting from well plate 0, and well number 24\n",
      "Concentration of stock A1, is 1\n",
      "Concentration of stock A6, is 2\n",
      "Based on given mole fraction and stock concentration, to create total volume of 300, calculated volume list for both agents are [[14.634146341463415, 28.57142857142859, 54.54545454545455, 78.26086942378727, 87.17948720644702, 100.0, 120.0, 127.55905511811025, 138.46153852865868, 148.8721804511278, 155.5555555777539, 171.42857142857144, 186.2068965521513, 200.0000000013153, 212.9032258064707, 224.99999999997635, 236.363636363634, 247.05882341424714, 257.14285714285177, 266.6666666666628, 275.67567559340705, 284.2105262184914, 292.3076923076923, 296.2025316519882], [285.3658536585366, 271.4285714285714, 245.45454545454547, 221.73913057621274, 212.82051279355298, 200.0, 179.99999999999997, 172.44094488188975, 161.53846147134132, 151.1278195488722, 144.44444442224614, 128.57142857142858, 113.7931034478487, 99.9999999986847, 87.09677419352934, 75.00000000002368, 63.63636363636605, 52.94117658575284, 42.85714285714828, 33.33333333333719, 24.324324406592986, 15.789473781508573, 7.692307692307673, 3.7974683480118046]]\n",
      "We have filled up 24 wells\n",
      "Now we are starting from well plate 0, well number 48\n"
     ]
    }
   ],
   "source": [
    "#Import Dependencies\n",
    "from opentrons import labware, instruments, robot\n",
    "import numpy as np\n",
    "from scipy.optimize import fsolve\n",
    "robot.reset()                                                  #remove when uploading protocol to robot\n",
    "################################################################################\n",
    "#Importing labware\n",
    "tiprack_300 = labware.load(\"opentrons-tiprack-300ul\", '10')    #300ul tips can be used for P300 and P50 pipettes\n",
    "tiprack_300_2 = labware.load(\"opentrons-tiprack-300ul\", '11')  #Second tiprack\n",
    "stock = labware.load(\"trough-12row\", '2' )                     #12 well resovoir for stocks listed A1-A12\n",
    "A_96_well= labware.load(\"96-flat\", '8')                        #Using 4, 96 wellplates labeled A-D\n",
    "B_96_well= labware.load(\"96-flat\", '9')\n",
    "C_96_well= labware.load(\"96-flat\", '5')\n",
    "D_96_well= labware.load(\"96-flat\", '6')\n",
    "trash = robot.fixed_trash                                      #set fixed trash\n",
    "################################################################################\n",
    "#Importing pipettes\n",
    "P300 = instruments.P300_Single(\n",
    "    mount='left',\n",
    "    tip_racks=[tiprack_300],\n",
    "    trash_container=trash\n",
    ") # Volume range = 30-300uL\n",
    "\n",
    "P50 = instruments.P50_Single(\n",
    "    mount='right',\n",
    "    tip_racks=[tiprack_300_2],\n",
    "    trash_container=trash\n",
    ") # Volume range = 5-50uL\n",
    "\n",
    "################################################################################\n",
    "#Input volumes to pipette in uL. first list is for QAS and second is for HBD\n",
    "mole_fractions = np.array([[0.025,0.975],[0.05,0.95],[0.1, 0.9],[0.15,0.85],[0.17,0.83],[0.2,0.8],[0.25,0.75],[0.27,0.73],\n",
    "                                 [0.3,0.7],[0.33,0.67],[0.35,0.65],[0.4,0.6],[0.45,0.55],[0.5,0.5],[0.55,0.45],[0.6,0.4],\n",
    "                                 [0.65,0.35],[0.7,0.3],[0.75,0.25],[0.8,0.2],[0.85,0.15],[0.9,0.1],[0.95,0.05],[0.975,0.025]])\n",
    "\n",
    "################################################################################\n",
    "\n",
    "#Define mixtures to create. A1-A12 are positions on 12 row trough where the stocks are located.\n",
    "mixtures = np.array([['A1', 'A5'], ['A1', 'A6']])\n",
    "\n",
    "################################################################################\n",
    "#Create a dictionary of stock concentrations\n",
    "stock_concentrations = {'A1':1, 'A2':2, 'A3':3, 'A4': 4, 'A5':1, 'A6':2}\n",
    "\n",
    "################################################################################\n",
    "#Create a wellplate list based on the previously defined labware for the code to iterate through\n",
    "well_plate_list = [A_96_well, B_96_well, C_96_well, D_96_well]\n",
    "#So in the list, 0 will be wellplate A, 1 will be wellplate B, and etc. \n",
    "################################################################################\n",
    "robot.home() #useful to prevent collisions based on previous protocols\n",
    "\n",
    "#Implenet the wrapper function\n",
    "main(mixtures, mole_fractions, well_plate_list, 0, stock_concentrations, 300)\n",
    "\n",
    "# for c in robot.commands():\n",
    "#     print(c)\n"
   ]
  },
  {
   "cell_type": "markdown",
   "metadata": {},
   "source": [
    "### In the protocol, I had defined two mixtures to make across 24 mole fractions. The print statements allow you to check if everything is working the way you want it to. We can see that we did indeed use the correct stocks, their concentrations, correct calculated volume, and how many wells we filled and where we are starting next. This should hopefully be pretty usedful. Note however, that these print statements will not appear if protocol is uploaded as a .py file in the GUI, the robot will only display explicit pipetting commands. So you can only use this to check your protocol beforehand in a jupyter notebook. To explicitly see the rest of the pipette transfer commands in the jupyter notebook as well, just uncomment  the robot.commands() for loop. "
   ]
  },
  {
   "cell_type": "code",
   "execution_count": null,
   "metadata": {},
   "outputs": [],
   "source": []
  }
 ],
 "metadata": {
  "kernelspec": {
   "display_name": "Python 3",
   "language": "python",
   "name": "python3"
  },
  "language_info": {
   "codemirror_mode": {
    "name": "ipython",
    "version": 3
   },
   "file_extension": ".py",
   "mimetype": "text/x-python",
   "name": "python",
   "nbconvert_exporter": "python",
   "pygments_lexer": "ipython3",
   "version": "3.7.3"
  }
 },
 "nbformat": 4,
 "nbformat_minor": 2
}
